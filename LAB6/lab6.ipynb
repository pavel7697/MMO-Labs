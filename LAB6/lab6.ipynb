{
  "nbformat": 4,
  "nbformat_minor": 0,
  "metadata": {
    "authors": [
      {
        "name": "Лещев Артем Олегович"
      }
    ],
    "group": "ИУ5-24М",
    "kernelspec": {
      "display_name": "Python 3",
      "language": "python",
      "name": "python3"
    },
    "lab_number": 6,
    "language_info": {
      "codemirror_mode": {
        "name": "ipython",
        "version": 3
      },
      "file_extension": ".py",
      "mimetype": "text/x-python",
      "name": "python",
      "nbconvert_exporter": "python",
      "pygments_lexer": "ipython3",
      "version": "3.7.3"
    },
    "title": "Ансамбли моделей машинного обучения",
    "colab": {
      "name": "lab6.ipynb",
      "provenance": [],
      "toc_visible": true
    }
  },
  "cells": [
    {
      "cell_type": "markdown",
      "metadata": {
        "id": "5-hIxgF1Qyoy",
        "colab_type": "text"
      },
      "source": [
        "# 1. Цель лабораторной работы"
      ]
    },
    {
      "cell_type": "markdown",
      "metadata": {
        "id": "zrFZrRMzRKfE",
        "colab_type": "text"
      },
      "source": [
        "Изучить ансамбли моделей машинного обучения."
      ]
    },
    {
      "cell_type": "markdown",
      "metadata": {
        "id": "pl9p1RSNQyoz",
        "colab_type": "text"
      },
      "source": [
        "# 2. Задание"
      ]
    },
    {
      "cell_type": "markdown",
      "metadata": {
        "id": "cyJBcb1URGF8",
        "colab_type": "text"
      },
      "source": [
        "1.\tВыберите набор данных (датасет) для решения задачи классификации или регресии.\n",
        "2.\tВ случае необходимости проведите удаление или заполнение пропусков и кодирование категориальных признаков.\n",
        "3.\tС использованием метода train_test_split разделите выборку на обучающую и тестовую.\n",
        "4.\tОбучите две ансамблевые модели. Оцените качество моделей с помощью одной из подходящих для задачи метрик. Сравните качество полученных моделей.\n",
        "5.\tПроизведите для каждой модели подбор значений одного гиперпараметра. В зависимости от используемой библиотеки можно применять функцию GridSearchCV, использовать перебор параметров в цикле, или использовать другие методы.\n",
        "6.\tПовторите пункт 4 для найденных оптимальных значений гиперпараметров. Сравните качество полученных моделей с качеством моделей, полученных в пункте 4.\n"
      ]
    },
    {
      "cell_type": "markdown",
      "metadata": {
        "id": "-NiDK6yYQyo0",
        "colab_type": "text"
      },
      "source": [
        "# 3. Ход выполнения работы"
      ]
    },
    {
      "cell_type": "markdown",
      "metadata": {
        "id": "NMXkW_NERbiu",
        "colab_type": "text"
      },
      "source": [
        "Подключим все необходимые библиотеки и настроим отображение графиков:"
      ]
    },
    {
      "cell_type": "code",
      "metadata": {
        "id": "RbB3A0MQQyo1",
        "colab_type": "code",
        "colab": {}
      },
      "source": [
        "from google.colab import files\n",
        "\n",
        "from datetime import datetime\n",
        "import matplotlib.pyplot as plt\n",
        "import numpy as np\n",
        "import pandas as pd\n",
        "from sklearn.ensemble import GradientBoostingRegressor\n",
        "from sklearn.ensemble import RandomForestRegressor\n",
        "from sklearn.metrics import mean_absolute_error\n",
        "from sklearn.metrics import median_absolute_error, r2_score\n",
        "from sklearn.model_selection import GridSearchCV\n",
        "from sklearn.model_selection import ShuffleSplit\n",
        "from sklearn.model_selection import train_test_split\n",
        "from sklearn.preprocessing import StandardScaler\n",
        "\n",
        "%matplotlib inline\n",
        "\n",
        "from IPython.display import set_matplotlib_formats\n",
        "set_matplotlib_formats(\"retina\")"
      ],
      "execution_count": 0,
      "outputs": []
    },
    {
      "cell_type": "markdown",
      "metadata": {
        "id": "snYo-pvRkaoU",
        "colab_type": "text"
      },
      "source": [
        "## Предварительная подготовка данных"
      ]
    },
    {
      "cell_type": "markdown",
      "metadata": {
        "id": "rm5wHQwmkaoU",
        "colab_type": "text"
      },
      "source": [
        "Датасет - COVID-19 Russia regions cases. COVID-19 virus (coronavirus) has been starting to spread inside of Russia. This is important to investigate and understand the spreading from a very low level. The world-level data is representing Russia virus cases as a single point. But Russia is a very huge and heterogeneous country. For better analyze we have to consider Russia infection cases distributed by region. So this is a dataset of regions distributed COVID-19 virus inside of Russia."
      ]
    },
    {
      "cell_type": "code",
      "metadata": {
        "id": "U_5CDGD1kaoV",
        "colab_type": "code",
        "colab": {
          "base_uri": "https://localhost:8080/",
          "height": 195
        },
        "outputId": "1ae586cb-6b56-49ab-dc04-81bd35946035"
      },
      "source": [
        "data = pd.read_csv(\"Measurement_summary.csv\", delimiter=',')\n",
        "data.head(5)"
      ],
      "execution_count": 50,
      "outputs": [
        {
          "output_type": "execute_result",
          "data": {
            "text/html": [
              "<div>\n",
              "<style scoped>\n",
              "    .dataframe tbody tr th:only-of-type {\n",
              "        vertical-align: middle;\n",
              "    }\n",
              "\n",
              "    .dataframe tbody tr th {\n",
              "        vertical-align: top;\n",
              "    }\n",
              "\n",
              "    .dataframe thead th {\n",
              "        text-align: right;\n",
              "    }\n",
              "</style>\n",
              "<table border=\"1\" class=\"dataframe\">\n",
              "  <thead>\n",
              "    <tr style=\"text-align: right;\">\n",
              "      <th></th>\n",
              "      <th>Measurement date</th>\n",
              "      <th>Station code</th>\n",
              "      <th>Address</th>\n",
              "      <th>Latitude</th>\n",
              "      <th>Longitude</th>\n",
              "      <th>SO2</th>\n",
              "      <th>NO2</th>\n",
              "      <th>O3</th>\n",
              "      <th>CO</th>\n",
              "      <th>PM10</th>\n",
              "      <th>PM2.5</th>\n",
              "    </tr>\n",
              "  </thead>\n",
              "  <tbody>\n",
              "    <tr>\n",
              "      <th>0</th>\n",
              "      <td>2017-01-01 00:00</td>\n",
              "      <td>101</td>\n",
              "      <td>19, Jong-ro 35ga-gil, Jongno-gu, Seoul, Republ...</td>\n",
              "      <td>37.572016</td>\n",
              "      <td>127.005007</td>\n",
              "      <td>0.004</td>\n",
              "      <td>0.059</td>\n",
              "      <td>0.002</td>\n",
              "      <td>1.2</td>\n",
              "      <td>73.0</td>\n",
              "      <td>57.0</td>\n",
              "    </tr>\n",
              "    <tr>\n",
              "      <th>1</th>\n",
              "      <td>2017-01-01 01:00</td>\n",
              "      <td>101</td>\n",
              "      <td>19, Jong-ro 35ga-gil, Jongno-gu, Seoul, Republ...</td>\n",
              "      <td>37.572016</td>\n",
              "      <td>127.005007</td>\n",
              "      <td>0.004</td>\n",
              "      <td>0.058</td>\n",
              "      <td>0.002</td>\n",
              "      <td>1.2</td>\n",
              "      <td>71.0</td>\n",
              "      <td>59.0</td>\n",
              "    </tr>\n",
              "    <tr>\n",
              "      <th>2</th>\n",
              "      <td>2017-01-01 02:00</td>\n",
              "      <td>101</td>\n",
              "      <td>19, Jong-ro 35ga-gil, Jongno-gu, Seoul, Republ...</td>\n",
              "      <td>37.572016</td>\n",
              "      <td>127.005007</td>\n",
              "      <td>0.004</td>\n",
              "      <td>0.056</td>\n",
              "      <td>0.002</td>\n",
              "      <td>1.2</td>\n",
              "      <td>70.0</td>\n",
              "      <td>59.0</td>\n",
              "    </tr>\n",
              "    <tr>\n",
              "      <th>3</th>\n",
              "      <td>2017-01-01 03:00</td>\n",
              "      <td>101</td>\n",
              "      <td>19, Jong-ro 35ga-gil, Jongno-gu, Seoul, Republ...</td>\n",
              "      <td>37.572016</td>\n",
              "      <td>127.005007</td>\n",
              "      <td>0.004</td>\n",
              "      <td>0.056</td>\n",
              "      <td>0.002</td>\n",
              "      <td>1.2</td>\n",
              "      <td>70.0</td>\n",
              "      <td>58.0</td>\n",
              "    </tr>\n",
              "    <tr>\n",
              "      <th>4</th>\n",
              "      <td>2017-01-01 04:00</td>\n",
              "      <td>101</td>\n",
              "      <td>19, Jong-ro 35ga-gil, Jongno-gu, Seoul, Republ...</td>\n",
              "      <td>37.572016</td>\n",
              "      <td>127.005007</td>\n",
              "      <td>0.003</td>\n",
              "      <td>0.051</td>\n",
              "      <td>0.002</td>\n",
              "      <td>1.2</td>\n",
              "      <td>69.0</td>\n",
              "      <td>61.0</td>\n",
              "    </tr>\n",
              "  </tbody>\n",
              "</table>\n",
              "</div>"
            ],
            "text/plain": [
              "   Measurement date  Station code  ...  PM10  PM2.5\n",
              "0  2017-01-01 00:00           101  ...  73.0   57.0\n",
              "1  2017-01-01 01:00           101  ...  71.0   59.0\n",
              "2  2017-01-01 02:00           101  ...  70.0   59.0\n",
              "3  2017-01-01 03:00           101  ...  70.0   58.0\n",
              "4  2017-01-01 04:00           101  ...  69.0   61.0\n",
              "\n",
              "[5 rows x 11 columns]"
            ]
          },
          "metadata": {
            "tags": []
          },
          "execution_count": 50
        }
      ]
    },
    {
      "cell_type": "markdown",
      "metadata": {
        "id": "YcxuSM_KkaoX",
        "colab_type": "text"
      },
      "source": [
        "Уберем столбец с названиями и реобразуем дату в соответствующий временной формат:"
      ]
    },
    {
      "cell_type": "code",
      "metadata": {
        "id": "UiKg_N1GkaoY",
        "colab_type": "code",
        "colab": {
          "base_uri": "https://localhost:8080/",
          "height": 34
        },
        "outputId": "4a196ccb-7b24-4d29-b04b-4f7bc2e40b60"
      },
      "source": [
        "df = data.copy()\n",
        "\n",
        "df[\"Measurement date\"] = pd.to_datetime(df[\"Measurement date\"]).astype(np.int64)/1000000\n",
        "\n",
        "df = df.drop([\"Address\"], axis=1)\n",
        "\n",
        "'''\n",
        "df=df.dropna()\n",
        "'''"
      ],
      "execution_count": 51,
      "outputs": [
        {
          "output_type": "execute_result",
          "data": {
            "text/plain": [
              "'\\ndf=df.dropna()\\n'"
            ]
          },
          "metadata": {
            "tags": []
          },
          "execution_count": 51
        }
      ]
    },
    {
      "cell_type": "markdown",
      "metadata": {
        "id": "i4g4ylpjkaof",
        "colab_type": "text"
      },
      "source": [
        "Верхушка данных и типы"
      ]
    },
    {
      "cell_type": "code",
      "metadata": {
        "scrolled": false,
        "id": "hRM_O-qnkaof",
        "colab_type": "code",
        "outputId": "cb150b96-45b4-4846-949f-651ccf32654f",
        "colab": {
          "base_uri": "https://localhost:8080/",
          "height": 195
        }
      },
      "source": [
        "df.head()"
      ],
      "execution_count": 52,
      "outputs": [
        {
          "output_type": "execute_result",
          "data": {
            "text/html": [
              "<div>\n",
              "<style scoped>\n",
              "    .dataframe tbody tr th:only-of-type {\n",
              "        vertical-align: middle;\n",
              "    }\n",
              "\n",
              "    .dataframe tbody tr th {\n",
              "        vertical-align: top;\n",
              "    }\n",
              "\n",
              "    .dataframe thead th {\n",
              "        text-align: right;\n",
              "    }\n",
              "</style>\n",
              "<table border=\"1\" class=\"dataframe\">\n",
              "  <thead>\n",
              "    <tr style=\"text-align: right;\">\n",
              "      <th></th>\n",
              "      <th>Measurement date</th>\n",
              "      <th>Station code</th>\n",
              "      <th>Latitude</th>\n",
              "      <th>Longitude</th>\n",
              "      <th>SO2</th>\n",
              "      <th>NO2</th>\n",
              "      <th>O3</th>\n",
              "      <th>CO</th>\n",
              "      <th>PM10</th>\n",
              "      <th>PM2.5</th>\n",
              "    </tr>\n",
              "  </thead>\n",
              "  <tbody>\n",
              "    <tr>\n",
              "      <th>0</th>\n",
              "      <td>1.483229e+12</td>\n",
              "      <td>101</td>\n",
              "      <td>37.572016</td>\n",
              "      <td>127.005007</td>\n",
              "      <td>0.004</td>\n",
              "      <td>0.059</td>\n",
              "      <td>0.002</td>\n",
              "      <td>1.2</td>\n",
              "      <td>73.0</td>\n",
              "      <td>57.0</td>\n",
              "    </tr>\n",
              "    <tr>\n",
              "      <th>1</th>\n",
              "      <td>1.483232e+12</td>\n",
              "      <td>101</td>\n",
              "      <td>37.572016</td>\n",
              "      <td>127.005007</td>\n",
              "      <td>0.004</td>\n",
              "      <td>0.058</td>\n",
              "      <td>0.002</td>\n",
              "      <td>1.2</td>\n",
              "      <td>71.0</td>\n",
              "      <td>59.0</td>\n",
              "    </tr>\n",
              "    <tr>\n",
              "      <th>2</th>\n",
              "      <td>1.483236e+12</td>\n",
              "      <td>101</td>\n",
              "      <td>37.572016</td>\n",
              "      <td>127.005007</td>\n",
              "      <td>0.004</td>\n",
              "      <td>0.056</td>\n",
              "      <td>0.002</td>\n",
              "      <td>1.2</td>\n",
              "      <td>70.0</td>\n",
              "      <td>59.0</td>\n",
              "    </tr>\n",
              "    <tr>\n",
              "      <th>3</th>\n",
              "      <td>1.483240e+12</td>\n",
              "      <td>101</td>\n",
              "      <td>37.572016</td>\n",
              "      <td>127.005007</td>\n",
              "      <td>0.004</td>\n",
              "      <td>0.056</td>\n",
              "      <td>0.002</td>\n",
              "      <td>1.2</td>\n",
              "      <td>70.0</td>\n",
              "      <td>58.0</td>\n",
              "    </tr>\n",
              "    <tr>\n",
              "      <th>4</th>\n",
              "      <td>1.483243e+12</td>\n",
              "      <td>101</td>\n",
              "      <td>37.572016</td>\n",
              "      <td>127.005007</td>\n",
              "      <td>0.003</td>\n",
              "      <td>0.051</td>\n",
              "      <td>0.002</td>\n",
              "      <td>1.2</td>\n",
              "      <td>69.0</td>\n",
              "      <td>61.0</td>\n",
              "    </tr>\n",
              "  </tbody>\n",
              "</table>\n",
              "</div>"
            ],
            "text/plain": [
              "   Measurement date  Station code   Latitude  ...   CO  PM10  PM2.5\n",
              "0      1.483229e+12           101  37.572016  ...  1.2  73.0   57.0\n",
              "1      1.483232e+12           101  37.572016  ...  1.2  71.0   59.0\n",
              "2      1.483236e+12           101  37.572016  ...  1.2  70.0   59.0\n",
              "3      1.483240e+12           101  37.572016  ...  1.2  70.0   58.0\n",
              "4      1.483243e+12           101  37.572016  ...  1.2  69.0   61.0\n",
              "\n",
              "[5 rows x 10 columns]"
            ]
          },
          "metadata": {
            "tags": []
          },
          "execution_count": 52
        }
      ]
    },
    {
      "cell_type": "code",
      "metadata": {
        "id": "CI7f7gTekaob",
        "colab_type": "code",
        "outputId": "6091e1a5-519a-4e7c-9f40-eb2bcffd3f89",
        "colab": {
          "base_uri": "https://localhost:8080/",
          "height": 202
        }
      },
      "source": [
        "df.dtypes"
      ],
      "execution_count": 53,
      "outputs": [
        {
          "output_type": "execute_result",
          "data": {
            "text/plain": [
              "Measurement date    float64\n",
              "Station code          int64\n",
              "Latitude            float64\n",
              "Longitude           float64\n",
              "SO2                 float64\n",
              "NO2                 float64\n",
              "O3                  float64\n",
              "CO                  float64\n",
              "PM10                float64\n",
              "PM2.5               float64\n",
              "dtype: object"
            ]
          },
          "metadata": {
            "tags": []
          },
          "execution_count": 53
        }
      ]
    },
    {
      "cell_type": "code",
      "metadata": {
        "id": "2fnT64hsQc7_",
        "colab_type": "code",
        "outputId": "67436ac8-83cc-4658-8dc4-4f21c65c94e6",
        "colab": {
          "base_uri": "https://localhost:8080/",
          "height": 202
        }
      },
      "source": [
        "df.isnull().sum()"
      ],
      "execution_count": 54,
      "outputs": [
        {
          "output_type": "execute_result",
          "data": {
            "text/plain": [
              "Measurement date    0\n",
              "Station code        0\n",
              "Latitude            0\n",
              "Longitude           0\n",
              "SO2                 0\n",
              "NO2                 0\n",
              "O3                  0\n",
              "CO                  0\n",
              "PM10                0\n",
              "PM2.5               0\n",
              "dtype: int64"
            ]
          },
          "metadata": {
            "tags": []
          },
          "execution_count": 54
        }
      ]
    },
    {
      "cell_type": "markdown",
      "metadata": {
        "id": "sVoSbqdokaov",
        "colab_type": "text"
      },
      "source": [
        "Проверим основные статистические характеристики набора данных:"
      ]
    },
    {
      "cell_type": "code",
      "metadata": {
        "id": "3l5npu0Bkaov",
        "colab_type": "code",
        "outputId": "5e79383a-cbf6-4997-a7c8-f1feacc55eba",
        "colab": {
          "base_uri": "https://localhost:8080/",
          "height": 284
        }
      },
      "source": [
        "df.describe()"
      ],
      "execution_count": 55,
      "outputs": [
        {
          "output_type": "execute_result",
          "data": {
            "text/html": [
              "<div>\n",
              "<style scoped>\n",
              "    .dataframe tbody tr th:only-of-type {\n",
              "        vertical-align: middle;\n",
              "    }\n",
              "\n",
              "    .dataframe tbody tr th {\n",
              "        vertical-align: top;\n",
              "    }\n",
              "\n",
              "    .dataframe thead th {\n",
              "        text-align: right;\n",
              "    }\n",
              "</style>\n",
              "<table border=\"1\" class=\"dataframe\">\n",
              "  <thead>\n",
              "    <tr style=\"text-align: right;\">\n",
              "      <th></th>\n",
              "      <th>Measurement date</th>\n",
              "      <th>Station code</th>\n",
              "      <th>Latitude</th>\n",
              "      <th>Longitude</th>\n",
              "      <th>SO2</th>\n",
              "      <th>NO2</th>\n",
              "      <th>O3</th>\n",
              "      <th>CO</th>\n",
              "      <th>PM10</th>\n",
              "      <th>PM2.5</th>\n",
              "    </tr>\n",
              "  </thead>\n",
              "  <tbody>\n",
              "    <tr>\n",
              "      <th>count</th>\n",
              "      <td>5.180000e+02</td>\n",
              "      <td>518.0</td>\n",
              "      <td>5.180000e+02</td>\n",
              "      <td>5.180000e+02</td>\n",
              "      <td>518.000000</td>\n",
              "      <td>518.000000</td>\n",
              "      <td>518.000000</td>\n",
              "      <td>518.000000</td>\n",
              "      <td>518.000000</td>\n",
              "      <td>518.000000</td>\n",
              "    </tr>\n",
              "    <tr>\n",
              "      <th>mean</th>\n",
              "      <td>1.484159e+12</td>\n",
              "      <td>101.0</td>\n",
              "      <td>3.757202e+01</td>\n",
              "      <td>1.270050e+02</td>\n",
              "      <td>0.004384</td>\n",
              "      <td>0.038784</td>\n",
              "      <td>0.014178</td>\n",
              "      <td>0.711390</td>\n",
              "      <td>52.490347</td>\n",
              "      <td>36.959459</td>\n",
              "    </tr>\n",
              "    <tr>\n",
              "      <th>std</th>\n",
              "      <td>5.388408e+08</td>\n",
              "      <td>0.0</td>\n",
              "      <td>6.401066e-14</td>\n",
              "      <td>1.749625e-12</td>\n",
              "      <td>0.002610</td>\n",
              "      <td>0.019625</td>\n",
              "      <td>0.010952</td>\n",
              "      <td>0.419871</td>\n",
              "      <td>30.897017</td>\n",
              "      <td>27.649651</td>\n",
              "    </tr>\n",
              "    <tr>\n",
              "      <th>min</th>\n",
              "      <td>1.483229e+12</td>\n",
              "      <td>101.0</td>\n",
              "      <td>3.757202e+01</td>\n",
              "      <td>1.270050e+02</td>\n",
              "      <td>0.002000</td>\n",
              "      <td>0.007000</td>\n",
              "      <td>0.002000</td>\n",
              "      <td>0.100000</td>\n",
              "      <td>4.000000</td>\n",
              "      <td>1.000000</td>\n",
              "    </tr>\n",
              "    <tr>\n",
              "      <th>25%</th>\n",
              "      <td>1.483694e+12</td>\n",
              "      <td>101.0</td>\n",
              "      <td>3.757202e+01</td>\n",
              "      <td>1.270050e+02</td>\n",
              "      <td>0.003000</td>\n",
              "      <td>0.021000</td>\n",
              "      <td>0.003000</td>\n",
              "      <td>0.400000</td>\n",
              "      <td>30.000000</td>\n",
              "      <td>14.000000</td>\n",
              "    </tr>\n",
              "    <tr>\n",
              "      <th>50%</th>\n",
              "      <td>1.484159e+12</td>\n",
              "      <td>101.0</td>\n",
              "      <td>3.757202e+01</td>\n",
              "      <td>1.270050e+02</td>\n",
              "      <td>0.004000</td>\n",
              "      <td>0.039000</td>\n",
              "      <td>0.012500</td>\n",
              "      <td>0.600000</td>\n",
              "      <td>45.000000</td>\n",
              "      <td>31.000000</td>\n",
              "    </tr>\n",
              "    <tr>\n",
              "      <th>75%</th>\n",
              "      <td>1.484625e+12</td>\n",
              "      <td>101.0</td>\n",
              "      <td>3.757202e+01</td>\n",
              "      <td>1.270050e+02</td>\n",
              "      <td>0.005000</td>\n",
              "      <td>0.054000</td>\n",
              "      <td>0.024000</td>\n",
              "      <td>0.900000</td>\n",
              "      <td>68.750000</td>\n",
              "      <td>53.000000</td>\n",
              "    </tr>\n",
              "    <tr>\n",
              "      <th>max</th>\n",
              "      <td>1.485090e+12</td>\n",
              "      <td>101.0</td>\n",
              "      <td>3.757202e+01</td>\n",
              "      <td>1.270050e+02</td>\n",
              "      <td>0.051000</td>\n",
              "      <td>0.086000</td>\n",
              "      <td>0.052000</td>\n",
              "      <td>6.000000</td>\n",
              "      <td>160.000000</td>\n",
              "      <td>149.000000</td>\n",
              "    </tr>\n",
              "  </tbody>\n",
              "</table>\n",
              "</div>"
            ],
            "text/plain": [
              "       Measurement date  Station code  ...        PM10       PM2.5\n",
              "count      5.180000e+02         518.0  ...  518.000000  518.000000\n",
              "mean       1.484159e+12         101.0  ...   52.490347   36.959459\n",
              "std        5.388408e+08           0.0  ...   30.897017   27.649651\n",
              "min        1.483229e+12         101.0  ...    4.000000    1.000000\n",
              "25%        1.483694e+12         101.0  ...   30.000000   14.000000\n",
              "50%        1.484159e+12         101.0  ...   45.000000   31.000000\n",
              "75%        1.484625e+12         101.0  ...   68.750000   53.000000\n",
              "max        1.485090e+12         101.0  ...  160.000000  149.000000\n",
              "\n",
              "[8 rows x 10 columns]"
            ]
          },
          "metadata": {
            "tags": []
          },
          "execution_count": 55
        }
      ]
    },
    {
      "cell_type": "markdown",
      "metadata": {
        "id": "LsXS9_qDkao0",
        "colab_type": "text"
      },
      "source": [
        "## Разделение данных"
      ]
    },
    {
      "cell_type": "code",
      "metadata": {
        "id": "i1DXTFWokao1",
        "colab_type": "code",
        "colab": {}
      },
      "source": [
        "X = df.drop(\"PM10\", axis=1)\n",
        "y = df[\"PM10\"]"
      ],
      "execution_count": 0,
      "outputs": []
    },
    {
      "cell_type": "code",
      "metadata": {
        "id": "68JI8_ickao3",
        "colab_type": "code",
        "outputId": "93eb70c3-7704-4076-a78a-51d02fcdb0bb",
        "colab": {
          "base_uri": "https://localhost:8080/",
          "height": 202
        }
      },
      "source": [
        "print(X.head(), \"\\n\")\n",
        "print(y.unique()[1:20])"
      ],
      "execution_count": 57,
      "outputs": [
        {
          "output_type": "stream",
          "text": [
            "   Measurement date  Station code   Latitude  ...     O3   CO  PM2.5\n",
            "0      1.483229e+12           101  37.572016  ...  0.002  1.2   57.0\n",
            "1      1.483232e+12           101  37.572016  ...  0.002  1.2   59.0\n",
            "2      1.483236e+12           101  37.572016  ...  0.002  1.2   59.0\n",
            "3      1.483240e+12           101  37.572016  ...  0.002  1.2   58.0\n",
            "4      1.483243e+12           101  37.572016  ...  0.002  1.2   61.0\n",
            "\n",
            "[5 rows x 9 columns] \n",
            "\n",
            "[ 71.  70.  69.  66.  72.  74.  76.  83.  93.  94.  87.  91.  92.  89.\n",
            "  90.  88.  85.  80. 104.]\n"
          ],
          "name": "stdout"
        }
      ]
    },
    {
      "cell_type": "code",
      "metadata": {
        "id": "rlAS6MeJkao6",
        "colab_type": "code",
        "outputId": "b426ab36-bcf5-4804-882d-5ef44936885a",
        "colab": {
          "base_uri": "https://localhost:8080/",
          "height": 50
        }
      },
      "source": [
        "print(X.shape)\n",
        "print(y.shape)"
      ],
      "execution_count": 58,
      "outputs": [
        {
          "output_type": "stream",
          "text": [
            "(518, 9)\n",
            "(518,)\n"
          ],
          "name": "stdout"
        }
      ]
    },
    {
      "cell_type": "markdown",
      "metadata": {
        "id": "gR6L5Sk9kao8",
        "colab_type": "text"
      },
      "source": [
        "Предобработка данных:"
      ]
    },
    {
      "cell_type": "code",
      "metadata": {
        "id": "ra6qLVGokao9",
        "colab_type": "code",
        "outputId": "14b5b035-989e-48ef-eae4-678c5e94c540",
        "colab": {
          "base_uri": "https://localhost:8080/",
          "height": 284
        }
      },
      "source": [
        "columns = X.columns\n",
        "scaler = StandardScaler()\n",
        "X = scaler.fit_transform(X)\n",
        "pd.DataFrame(X, columns=columns).describe()"
      ],
      "execution_count": 59,
      "outputs": [
        {
          "output_type": "execute_result",
          "data": {
            "text/html": [
              "<div>\n",
              "<style scoped>\n",
              "    .dataframe tbody tr th:only-of-type {\n",
              "        vertical-align: middle;\n",
              "    }\n",
              "\n",
              "    .dataframe tbody tr th {\n",
              "        vertical-align: top;\n",
              "    }\n",
              "\n",
              "    .dataframe thead th {\n",
              "        text-align: right;\n",
              "    }\n",
              "</style>\n",
              "<table border=\"1\" class=\"dataframe\">\n",
              "  <thead>\n",
              "    <tr style=\"text-align: right;\">\n",
              "      <th></th>\n",
              "      <th>Measurement date</th>\n",
              "      <th>Station code</th>\n",
              "      <th>Latitude</th>\n",
              "      <th>Longitude</th>\n",
              "      <th>SO2</th>\n",
              "      <th>NO2</th>\n",
              "      <th>O3</th>\n",
              "      <th>CO</th>\n",
              "      <th>PM2.5</th>\n",
              "    </tr>\n",
              "  </thead>\n",
              "  <tbody>\n",
              "    <tr>\n",
              "      <th>count</th>\n",
              "      <td>5.180000e+02</td>\n",
              "      <td>518.0</td>\n",
              "      <td>518.0</td>\n",
              "      <td>518.0</td>\n",
              "      <td>5.180000e+02</td>\n",
              "      <td>5.180000e+02</td>\n",
              "      <td>5.180000e+02</td>\n",
              "      <td>5.180000e+02</td>\n",
              "      <td>5.180000e+02</td>\n",
              "    </tr>\n",
              "    <tr>\n",
              "      <th>mean</th>\n",
              "      <td>2.614811e-17</td>\n",
              "      <td>0.0</td>\n",
              "      <td>0.0</td>\n",
              "      <td>1.0</td>\n",
              "      <td>-3.804336e-16</td>\n",
              "      <td>-3.827912e-16</td>\n",
              "      <td>-7.287178e-18</td>\n",
              "      <td>1.731776e-16</td>\n",
              "      <td>-4.415173e-17</td>\n",
              "    </tr>\n",
              "    <tr>\n",
              "      <th>std</th>\n",
              "      <td>1.000967e+00</td>\n",
              "      <td>0.0</td>\n",
              "      <td>0.0</td>\n",
              "      <td>0.0</td>\n",
              "      <td>1.000967e+00</td>\n",
              "      <td>1.000967e+00</td>\n",
              "      <td>1.000967e+00</td>\n",
              "      <td>1.000967e+00</td>\n",
              "      <td>1.000967e+00</td>\n",
              "    </tr>\n",
              "    <tr>\n",
              "      <th>min</th>\n",
              "      <td>-1.728710e+00</td>\n",
              "      <td>0.0</td>\n",
              "      <td>0.0</td>\n",
              "      <td>1.0</td>\n",
              "      <td>-9.145276e-01</td>\n",
              "      <td>-1.621080e+00</td>\n",
              "      <td>-1.112951e+00</td>\n",
              "      <td>-1.457545e+00</td>\n",
              "      <td>-1.301797e+00</td>\n",
              "    </tr>\n",
              "    <tr>\n",
              "      <th>25%</th>\n",
              "      <td>-8.643552e-01</td>\n",
              "      <td>0.0</td>\n",
              "      <td>0.0</td>\n",
              "      <td>1.0</td>\n",
              "      <td>-5.309444e-01</td>\n",
              "      <td>-9.070331e-01</td>\n",
              "      <td>-1.021558e+00</td>\n",
              "      <td>-7.423493e-01</td>\n",
              "      <td>-8.311734e-01</td>\n",
              "    </tr>\n",
              "    <tr>\n",
              "      <th>50%</th>\n",
              "      <td>0.000000e+00</td>\n",
              "      <td>0.0</td>\n",
              "      <td>0.0</td>\n",
              "      <td>1.0</td>\n",
              "      <td>-1.473611e-01</td>\n",
              "      <td>1.102776e-02</td>\n",
              "      <td>-1.533219e-01</td>\n",
              "      <td>-2.655521e-01</td>\n",
              "      <td>-2.157431e-01</td>\n",
              "    </tr>\n",
              "    <tr>\n",
              "      <th>75%</th>\n",
              "      <td>8.643552e-01</td>\n",
              "      <td>0.0</td>\n",
              "      <td>0.0</td>\n",
              "      <td>1.0</td>\n",
              "      <td>2.362221e-01</td>\n",
              "      <td>7.760784e-01</td>\n",
              "      <td>8.977006e-01</td>\n",
              "      <td>4.496437e-01</td>\n",
              "      <td>5.806962e-01</td>\n",
              "    </tr>\n",
              "    <tr>\n",
              "      <th>max</th>\n",
              "      <td>1.728710e+00</td>\n",
              "      <td>0.0</td>\n",
              "      <td>0.0</td>\n",
              "      <td>1.0</td>\n",
              "      <td>1.788105e+01</td>\n",
              "      <td>2.408187e+00</td>\n",
              "      <td>3.456712e+00</td>\n",
              "      <td>1.260797e+01</td>\n",
              "      <td>4.056067e+00</td>\n",
              "    </tr>\n",
              "  </tbody>\n",
              "</table>\n",
              "</div>"
            ],
            "text/plain": [
              "       Measurement date  Station code  ...            CO         PM2.5\n",
              "count      5.180000e+02         518.0  ...  5.180000e+02  5.180000e+02\n",
              "mean       2.614811e-17           0.0  ...  1.731776e-16 -4.415173e-17\n",
              "std        1.000967e+00           0.0  ...  1.000967e+00  1.000967e+00\n",
              "min       -1.728710e+00           0.0  ... -1.457545e+00 -1.301797e+00\n",
              "25%       -8.643552e-01           0.0  ... -7.423493e-01 -8.311734e-01\n",
              "50%        0.000000e+00           0.0  ... -2.655521e-01 -2.157431e-01\n",
              "75%        8.643552e-01           0.0  ...  4.496437e-01  5.806962e-01\n",
              "max        1.728710e+00           0.0  ...  1.260797e+01  4.056067e+00\n",
              "\n",
              "[8 rows x 9 columns]"
            ]
          },
          "metadata": {
            "tags": []
          },
          "execution_count": 59
        }
      ]
    },
    {
      "cell_type": "markdown",
      "metadata": {
        "id": "hd4xHiYJkao_",
        "colab_type": "text"
      },
      "source": [
        "Разделим выборку на тренировочную и тестовую:"
      ]
    },
    {
      "cell_type": "code",
      "metadata": {
        "id": "Ou6yaxPfkao_",
        "colab_type": "code",
        "colab": {}
      },
      "source": [
        "X_train, X_test, y_train, y_test = train_test_split(X, y,\n",
        "                            test_size=0.25, random_state=88888888)"
      ],
      "execution_count": 0,
      "outputs": []
    },
    {
      "cell_type": "code",
      "metadata": {
        "id": "TvVs_W-_kapE",
        "colab_type": "code",
        "outputId": "52e140f2-da71-4930-e66b-a98330ec0cf5",
        "colab": {
          "base_uri": "https://localhost:8080/",
          "height": 84
        }
      },
      "source": [
        "print(X_train.shape)\n",
        "print(X_test.shape)\n",
        "print(y_train.shape)\n",
        "print(y_test.shape)"
      ],
      "execution_count": 61,
      "outputs": [
        {
          "output_type": "stream",
          "text": [
            "(388, 9)\n",
            "(130, 9)\n",
            "(388,)\n",
            "(130,)\n"
          ],
          "name": "stdout"
        }
      ]
    },
    {
      "cell_type": "markdown",
      "metadata": {
        "id": "V2v6hFd2Qyps",
        "colab_type": "text"
      },
      "source": [
        "## Обучение моделей"
      ]
    },
    {
      "cell_type": "markdown",
      "metadata": {
        "id": "0lYK0ksCQyps",
        "colab_type": "text"
      },
      "source": [
        "Метрики построенной модели:"
      ]
    },
    {
      "cell_type": "code",
      "metadata": {
        "id": "AGUFk7QEQyps",
        "colab_type": "code",
        "colab": {}
      },
      "source": [
        "def test_model(model):\n",
        "    print(\"mean_absolute_error:\",\n",
        "          mean_absolute_error(y_test, model.predict(X_test)))\n",
        "    print(\"median_absolute_error:\",\n",
        "          median_absolute_error(y_test, model.predict(X_test)))\n",
        "    print(\"r2_score:\",\n",
        "          r2_score(y_test, model.predict(X_test)))"
      ],
      "execution_count": 0,
      "outputs": []
    },
    {
      "cell_type": "markdown",
      "metadata": {
        "id": "nyPa8jDJQypu",
        "colab_type": "text"
      },
      "source": [
        "### Случайный лес"
      ]
    },
    {
      "cell_type": "markdown",
      "metadata": {
        "id": "mXoAdBvkQypv",
        "colab_type": "text"
      },
      "source": [
        "Случайный лес с гиперпараметром  n=264 :"
      ]
    },
    {
      "cell_type": "code",
      "metadata": {
        "id": "XxWY_yTcQypv",
        "colab_type": "code",
        "outputId": "9e82d686-568a-4eec-f96b-1f7e3fe5d5b6",
        "colab": {
          "base_uri": "https://localhost:8080/",
          "height": 134
        }
      },
      "source": [
        "ran_264 = RandomForestRegressor(n_estimators=264)\n",
        "ran_264.fit(X_train, y_train)"
      ],
      "execution_count": 63,
      "outputs": [
        {
          "output_type": "execute_result",
          "data": {
            "text/plain": [
              "RandomForestRegressor(bootstrap=True, ccp_alpha=0.0, criterion='mse',\n",
              "                      max_depth=None, max_features='auto', max_leaf_nodes=None,\n",
              "                      max_samples=None, min_impurity_decrease=0.0,\n",
              "                      min_impurity_split=None, min_samples_leaf=1,\n",
              "                      min_samples_split=2, min_weight_fraction_leaf=0.0,\n",
              "                      n_estimators=264, n_jobs=None, oob_score=False,\n",
              "                      random_state=None, verbose=0, warm_start=False)"
            ]
          },
          "metadata": {
            "tags": []
          },
          "execution_count": 63
        }
      ]
    },
    {
      "cell_type": "code",
      "metadata": {
        "id": "-l4AioD_Qypy",
        "colab_type": "code",
        "outputId": "ae4d10cc-54ef-4015-893b-4438de589896",
        "colab": {
          "base_uri": "https://localhost:8080/",
          "height": 67
        }
      },
      "source": [
        "test_model(ran_264)"
      ],
      "execution_count": 64,
      "outputs": [
        {
          "output_type": "stream",
          "text": [
            "mean_absolute_error: 3.204662004662005\n",
            "median_absolute_error: 2.303030303030301\n",
            "r2_score: 0.9784146930030948\n"
          ],
          "name": "stdout"
        }
      ]
    },
    {
      "cell_type": "markdown",
      "metadata": {
        "id": "ppWZXi0jQyp1",
        "colab_type": "text"
      },
      "source": [
        "Получаем нормальный результат без настройки."
      ]
    },
    {
      "cell_type": "markdown",
      "metadata": {
        "id": "_FSUZS2rQyp1",
        "colab_type": "text"
      },
      "source": [
        "### Градиентный бустинг"
      ]
    },
    {
      "cell_type": "markdown",
      "metadata": {
        "id": "w_Iie1UuQyp1",
        "colab_type": "text"
      },
      "source": [
        "Градиентный бустинг с гиперпараметром  n=264 :"
      ]
    },
    {
      "cell_type": "code",
      "metadata": {
        "id": "ekOwTjioQyp6",
        "colab_type": "code",
        "outputId": "a074a4d1-d49a-48fb-bf43-5090cbbc6072",
        "colab": {
          "base_uri": "https://localhost:8080/",
          "height": 168
        }
      },
      "source": [
        "gr_264 = GradientBoostingRegressor(n_estimators=264)\n",
        "gr_264.fit(X_train, y_train)"
      ],
      "execution_count": 65,
      "outputs": [
        {
          "output_type": "execute_result",
          "data": {
            "text/plain": [
              "GradientBoostingRegressor(alpha=0.9, ccp_alpha=0.0, criterion='friedman_mse',\n",
              "                          init=None, learning_rate=0.1, loss='ls', max_depth=3,\n",
              "                          max_features=None, max_leaf_nodes=None,\n",
              "                          min_impurity_decrease=0.0, min_impurity_split=None,\n",
              "                          min_samples_leaf=1, min_samples_split=2,\n",
              "                          min_weight_fraction_leaf=0.0, n_estimators=264,\n",
              "                          n_iter_no_change=None, presort='deprecated',\n",
              "                          random_state=None, subsample=1.0, tol=0.0001,\n",
              "                          validation_fraction=0.1, verbose=0, warm_start=False)"
            ]
          },
          "metadata": {
            "tags": []
          },
          "execution_count": 65
        }
      ]
    },
    {
      "cell_type": "markdown",
      "metadata": {
        "id": "TipJfx1JQyp8",
        "colab_type": "text"
      },
      "source": [
        "Метрики построенной модели:"
      ]
    },
    {
      "cell_type": "code",
      "metadata": {
        "id": "oHZEE9LFQyp8",
        "colab_type": "code",
        "outputId": "bbd18a5e-9d89-46c6-ed6f-05540b31d598",
        "colab": {
          "base_uri": "https://localhost:8080/",
          "height": 67
        }
      },
      "source": [
        "test_model(gr_264)"
      ],
      "execution_count": 66,
      "outputs": [
        {
          "output_type": "stream",
          "text": [
            "mean_absolute_error: 3.189330879853889\n",
            "median_absolute_error: 2.4218792090032437\n",
            "r2_score: 0.9808810092512654\n"
          ],
          "name": "stdout"
        }
      ]
    },
    {
      "cell_type": "markdown",
      "metadata": {
        "id": "iuUgDC5aQyp-",
        "colab_type": "text"
      },
      "source": [
        "Результаты аналогичны методу случайного леса"
      ]
    },
    {
      "cell_type": "markdown",
      "metadata": {
        "id": "QLkA4mXmQyp_",
        "colab_type": "text"
      },
      "source": [
        "## Подбор гиперпараметра  n"
      ]
    },
    {
      "cell_type": "markdown",
      "metadata": {
        "id": "0bpRKDTmQyp_",
        "colab_type": "text"
      },
      "source": [
        "### Случайный лес"
      ]
    },
    {
      "cell_type": "markdown",
      "metadata": {
        "id": "0_fmIBbOQyqA",
        "colab_type": "text"
      },
      "source": [
        "Список настраиваемых параметров:"
      ]
    },
    {
      "cell_type": "code",
      "metadata": {
        "id": "PHaHRT2wQyqA",
        "colab_type": "code",
        "outputId": "92c94ac0-5730-4957-948c-fb9c63f84761",
        "colab": {
          "base_uri": "https://localhost:8080/",
          "height": 50
        }
      },
      "source": [
        "param_range = np.arange(64, 300, 10)\n",
        "type(param_range)\n",
        "\n",
        "tuned_parameters = [{'n_estimators': param_range}]\n",
        "tuned_parameters\n"
      ],
      "execution_count": 75,
      "outputs": [
        {
          "output_type": "execute_result",
          "data": {
            "text/plain": [
              "[{'n_estimators': array([ 64,  74,  84,  94, 104, 114, 124, 134, 144, 154, 164, 174, 184,\n",
              "         194, 204, 214, 224, 234, 244, 254, 264, 274, 284, 294])}]"
            ]
          },
          "metadata": {
            "tags": []
          },
          "execution_count": 75
        }
      ]
    },
    {
      "cell_type": "markdown",
      "metadata": {
        "id": "qsZzhzZNQyqE",
        "colab_type": "text"
      },
      "source": [
        "Подбор параметра:"
      ]
    },
    {
      "cell_type": "code",
      "metadata": {
        "id": "NuTigMDLQyqE",
        "colab_type": "code",
        "outputId": "f162448a-cf6c-4e6a-87ea-b801833bc165",
        "colab": {
          "base_uri": "https://localhost:8080/",
          "height": 134
        }
      },
      "source": [
        "gs = GridSearchCV(RandomForestRegressor(), tuned_parameters,\n",
        "                  cv=ShuffleSplit(n_splits=10), scoring=\"r2\",\n",
        "                  return_train_score=True, n_jobs=-1)\n",
        "gs.fit(X, y)\n",
        "gs.best_estimator_"
      ],
      "execution_count": 76,
      "outputs": [
        {
          "output_type": "execute_result",
          "data": {
            "text/plain": [
              "RandomForestRegressor(bootstrap=True, ccp_alpha=0.0, criterion='mse',\n",
              "                      max_depth=None, max_features='auto', max_leaf_nodes=None,\n",
              "                      max_samples=None, min_impurity_decrease=0.0,\n",
              "                      min_impurity_split=None, min_samples_leaf=1,\n",
              "                      min_samples_split=2, min_weight_fraction_leaf=0.0,\n",
              "                      n_estimators=244, n_jobs=None, oob_score=False,\n",
              "                      random_state=None, verbose=0, warm_start=False)"
            ]
          },
          "metadata": {
            "tags": []
          },
          "execution_count": 76
        }
      ]
    },
    {
      "cell_type": "markdown",
      "metadata": {
        "id": "YEcxBxGaQyqH",
        "colab_type": "text"
      },
      "source": [
        "Результаты при разных значения гиперпараметра на тренировочном наборе данных:"
      ]
    },
    {
      "cell_type": "code",
      "metadata": {
        "id": "Jk5a2JD3QyqH",
        "colab_type": "code",
        "outputId": "9303cf17-b1b4-4b75-9c69-ecfe1dc53cec",
        "colab": {
          "base_uri": "https://localhost:8080/",
          "height": 265
        }
      },
      "source": [
        "plt.plot(param_range, gs.cv_results_[\"mean_train_score\"]);"
      ],
      "execution_count": 77,
      "outputs": [
        {
          "output_type": "display_data",
          "data": {
            "image/png": "[encoded data removed]",
            "text/plain": [
              "<Figure size 432x288 with 1 Axes>"
            ]
          },
          "metadata": {
            "tags": [],
            "image/png": {
              "width": 399,
              "height": 248
            },
            "needs_background": "light"
          }
        }
      ]
    },
    {
      "cell_type": "markdown",
      "metadata": {
        "id": "q35dj8CjQyqK",
        "colab_type": "text"
      },
      "source": [
        "В целом — чем больше обученных моделей, тем лучше."
      ]
    },
    {
      "cell_type": "markdown",
      "metadata": {
        "id": "KdZAIU0wQyqK",
        "colab_type": "text"
      },
      "source": [
        "На тестовом наборе данных:"
      ]
    },
    {
      "cell_type": "code",
      "metadata": {
        "id": "W6x27bwwQyqK",
        "colab_type": "code",
        "outputId": "069d2afb-4b50-4a44-9925-7f46e83d1d7a",
        "colab": {
          "base_uri": "https://localhost:8080/",
          "height": 265
        }
      },
      "source": [
        "plt.plot(param_range, gs.cv_results_[\"mean_test_score\"]);"
      ],
      "execution_count": 78,
      "outputs": [
        {
          "output_type": "display_data",
          "data": {
            "image/png": "[encoded data removed]",
            "text/plain": [
              "<Figure size 432x288 with 1 Axes>"
            ]
          },
          "metadata": {
            "tags": [],
            "image/png": {
              "width": 393,
              "height": 248
            },
            "needs_background": "light"
          }
        }
      ]
    },
    {
      "cell_type": "markdown",
      "metadata": {
        "id": "poZsZ5RAQyqM",
        "colab_type": "text"
      },
      "source": [
        "График совсем не ровный, но разница интервала незначительна."
      ]
    },
    {
      "cell_type": "code",
      "metadata": {
        "id": "7VdTPWVPQyqN",
        "colab_type": "code",
        "outputId": "25af2aea-c205-49c8-f323-89119909b5a3",
        "colab": {
          "base_uri": "https://localhost:8080/",
          "height": 67
        }
      },
      "source": [
        "reg = gs.best_estimator_\n",
        "reg.fit(X_train, y_train)\n",
        "test_model(reg)"
      ],
      "execution_count": 82,
      "outputs": [
        {
          "output_type": "stream",
          "text": [
            "mean_absolute_error: 3.1543190416141234\n",
            "median_absolute_error: 2.264344262295083\n",
            "r2_score: 0.980016851338987\n"
          ],
          "name": "stdout"
        }
      ]
    },
    {
      "cell_type": "markdown",
      "metadata": {
        "id": "4MVsN0_YQyqP",
        "colab_type": "text"
      },
      "source": [
        "Результат несколько лучше, чем в исходной модели."
      ]
    },
    {
      "cell_type": "markdown",
      "metadata": {
        "id": "kOAQD7_FQyqP",
        "colab_type": "text"
      },
      "source": [
        "### Градиентный бустинг"
      ]
    },
    {
      "cell_type": "markdown",
      "metadata": {
        "id": "xlgO_VWuQyqP",
        "colab_type": "text"
      },
      "source": [
        "Список настраиваемых параметров тот же."
      ]
    },
    {
      "cell_type": "code",
      "metadata": {
        "id": "VXSRZ_Q1QyqQ",
        "colab_type": "code",
        "outputId": "7e44eeec-5ab4-487f-e46c-8935d2ff26a7",
        "colab": {
          "base_uri": "https://localhost:8080/",
          "height": 84
        }
      },
      "source": [
        "param_range = np.arange(0, 500, 10)\n",
        "type(param_range)\n",
        "\n",
        "tuned_parameters = [{'n_estimators': param_range}]\n",
        "tuned_parameters"
      ],
      "execution_count": 95,
      "outputs": [
        {
          "output_type": "execute_result",
          "data": {
            "text/plain": [
              "[{'n_estimators': array([  0,  10,  20,  30,  40,  50,  60,  70,  80,  90, 100, 110, 120,\n",
              "         130, 140, 150, 160, 170, 180, 190, 200, 210, 220, 230, 240, 250,\n",
              "         260, 270, 280, 290, 300, 310, 320, 330, 340, 350, 360, 370, 380,\n",
              "         390, 400, 410, 420, 430, 440, 450, 460, 470, 480, 490])}]"
            ]
          },
          "metadata": {
            "tags": []
          },
          "execution_count": 95
        }
      ]
    },
    {
      "cell_type": "markdown",
      "metadata": {
        "id": "FpUZ-EfRQyqS",
        "colab_type": "text"
      },
      "source": [
        "Подбор параметра:"
      ]
    },
    {
      "cell_type": "code",
      "metadata": {
        "id": "c0Kt79WrQyqT",
        "colab_type": "code",
        "outputId": "12ef5cb1-0876-4e20-d642-8806f7554e3d",
        "colab": {
          "base_uri": "https://localhost:8080/",
          "height": 168
        }
      },
      "source": [
        "gs = GridSearchCV(GradientBoostingRegressor(), tuned_parameters,\n",
        "                  cv=ShuffleSplit(n_splits=10), scoring=\"r2\",\n",
        "                  return_train_score=True, n_jobs=-1)\n",
        "gs.fit(X, y)\n",
        "gs.best_estimator_"
      ],
      "execution_count": 96,
      "outputs": [
        {
          "output_type": "execute_result",
          "data": {
            "text/plain": [
              "GradientBoostingRegressor(alpha=0.9, ccp_alpha=0.0, criterion='friedman_mse',\n",
              "                          init=None, learning_rate=0.1, loss='ls', max_depth=3,\n",
              "                          max_features=None, max_leaf_nodes=None,\n",
              "                          min_impurity_decrease=0.0, min_impurity_split=None,\n",
              "                          min_samples_leaf=1, min_samples_split=2,\n",
              "                          min_weight_fraction_leaf=0.0, n_estimators=470,\n",
              "                          n_iter_no_change=None, presort='deprecated',\n",
              "                          random_state=None, subsample=1.0, tol=0.0001,\n",
              "                          validation_fraction=0.1, verbose=0, warm_start=False)"
            ]
          },
          "metadata": {
            "tags": []
          },
          "execution_count": 96
        }
      ]
    },
    {
      "cell_type": "markdown",
      "metadata": {
        "id": "Kj96-3AIQyqV",
        "colab_type": "text"
      },
      "source": [
        "Результаты при разных значения гиперпараметра на тренировочном наборе данных:"
      ]
    },
    {
      "cell_type": "code",
      "metadata": {
        "id": "3bb2-BFeQyqV",
        "colab_type": "code",
        "outputId": "bd579bd4-6a22-4ae6-ecf6-8ebab72faa1e",
        "colab": {
          "base_uri": "https://localhost:8080/",
          "height": 265
        }
      },
      "source": [
        "plt.plot(param_range, gs.cv_results_[\"mean_train_score\"]);"
      ],
      "execution_count": 97,
      "outputs": [
        {
          "output_type": "display_data",
          "data": {
            "image/png": "[encoded data removed]",
            "text/plain": [
              "<Figure size 432x288 with 1 Axes>"
            ]
          },
          "metadata": {
            "tags": [],
            "image/png": {
              "width": 385,
              "height": 248
            },
            "needs_background": "light"
          }
        }
      ]
    },
    {
      "cell_type": "markdown",
      "metadata": {
        "id": "agbYNpG2QyqY",
        "colab_type": "text"
      },
      "source": [
        "Можно заметить, что результаты улучшаются при увеличении числа подмоделей, при большом увеличении скорость улучшения уже незначительна"
      ]
    },
    {
      "cell_type": "markdown",
      "metadata": {
        "id": "rkpdrS2TQyqZ",
        "colab_type": "text"
      },
      "source": [
        "На тестовом наборе данных:"
      ]
    },
    {
      "cell_type": "code",
      "metadata": {
        "id": "Y833sMYXQyqZ",
        "colab_type": "code",
        "outputId": "da38149d-1b5e-4d59-f6d5-c2f0af1fb57c",
        "colab": {
          "base_uri": "https://localhost:8080/",
          "height": 265
        }
      },
      "source": [
        "plt.plot(param_range, gs.cv_results_[\"mean_test_score\"]);"
      ],
      "execution_count": 98,
      "outputs": [
        {
          "output_type": "display_data",
          "data": {
            "image/png": "[encoded data removed]",
            "text/plain": [
              "<Figure size 432x288 with 1 Axes>"
            ]
          },
          "metadata": {
            "tags": [],
            "image/png": {
              "width": 385,
              "height": 248
            },
            "needs_background": "light"
          }
        }
      ]
    },
    {
      "cell_type": "markdown",
      "metadata": {
        "id": "VFVjudrYQyqc",
        "colab_type": "text"
      },
      "source": [
        "Полученные данные подтверждают улучшение результатов при увеличении числа подмоделей."
      ]
    },
    {
      "cell_type": "code",
      "metadata": {
        "id": "Cg1Smxu4Qyqc",
        "colab_type": "code",
        "outputId": "fc666157-4c0b-479e-e63f-d9cc7b1220b4",
        "colab": {
          "base_uri": "https://localhost:8080/",
          "height": 67
        }
      },
      "source": [
        "reg = gs.best_estimator_\n",
        "reg.fit(X_train, y_train)\n",
        "test_model(reg)"
      ],
      "execution_count": 99,
      "outputs": [
        {
          "output_type": "stream",
          "text": [
            "mean_absolute_error: 3.192845416156226\n",
            "median_absolute_error: 2.49036277202568\n",
            "r2_score: 0.9801587914372601\n"
          ],
          "name": "stdout"
        }
      ]
    },
    {
      "cell_type": "markdown",
      "metadata": {
        "id": "HS0e1lMCItIp",
        "colab_type": "text"
      },
      "source": [
        "Результат идентичен исходной модели"
      ]
    }
  ]
}